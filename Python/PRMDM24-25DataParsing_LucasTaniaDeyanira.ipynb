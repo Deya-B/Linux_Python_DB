{
 "cells": [
  {
   "cell_type": "markdown",
   "metadata": {},
   "source": [
    "#### Names:\n",
    "- Lucas Mateos\n",
    "- Tania Gonzalo\n",
    "- Deyanira Borroto"
   ]
  },
  {
   "cell_type": "code",
   "execution_count": 1,
   "metadata": {},
   "outputs": [],
   "source": [
    "import numpy as np\n",
    "import matplotlib.pyplot as plt\n",
    "\n",
    "# The next line indicates to matplotlib to show the plots inline in the notebook\n",
    "%matplotlib inline"
   ]
  },
  {
   "cell_type": "markdown",
   "metadata": {},
   "source": [
    "# Programming assignment \n",
    "\n",
    "You have program (in couples) a series of functions in order to generate a protein translation table. A protein is created from a sequence of nucleic acids codified in the messenger RNA (mRNA). This mRNA is read by the ribosome three bases at a time (called codons) to add one amino acid to the protein. In total there are $4^3=64$ different codons that correspond to the possible combinations of three bases.  Each codon codifies a single amino acid. The mRNA has one start codon that always codifies M and an end codon that signals the end of the protein.\n",
    "\n",
    "The objective of this assignment is to generate this translation table. To do so you will have to:\n",
    "\n",
    "+ Read the genome of a species from a FASTA file\n",
    "+ Read the annotation file for that genome to extract the location in the genome of the Coding Sequences (CDS) for each protein\n",
    "+ Extract the mRNAs from the genome that codifies each protein using its location \n",
    "+ Read the proteins from a FASTA file\n",
    "+ Generate the translation table using pairs of mRNA and protein\n",
    "\n",
    "\n",
    "In the following you will find the template of the functions to use and some other interesting execises \n",
    "\n",
    "*************************************************"
   ]
  },
  {
   "cell_type": "markdown",
   "metadata": {},
   "source": [
    "# File parsing \n",
    "\n",
    "Implement the function below to parse a fasta file. Find an example of a fasta format file here:\n",
    "***\n",
    "<pre>>NC_000907.1:1073118-1073456 Haemophilus influenzae Rd KW20 chromoso\n",
    "ATGAAAACATTATTCACTTCGGTTGTATTGTGTGGTGCGCTGGTTGTTTCTTCGTCTTTTGCTGAGGAAA\n",
    "AAGCGACAGANCAAACCGCTCAATCTGTTGTGACAACTCAAGCTGAAGCTCAAGTAGCACCAGCCGTAGT\n",
    "GAGCGATAAATTGAATATCAACACAGCAACTGCCAGTGAAATTCAAAAATCCTTAACTGGCATTGGTGCG\n",
    "AAAAAAGCGGAAGCTATTGTGCAATATCGTGAAAAACACGGTAATTTTKCTAATGCAGAACAGCTTTTAG\n",
    "AAGTACAAGGAATTGGCAAAGCAACACTAGAGAAAAATCGTGATCGTATAATCTTTTAA\n",
    "</pre>\n",
    "***\n"
   ]
  },
  {
   "cell_type": "markdown",
   "metadata": {},
   "source": [
    "#### Read FASTA"
   ]
  },
  {
   "cell_type": "code",
   "execution_count": 2,
   "metadata": {},
   "outputs": [],
   "source": [
    "def readFasta(file):\n",
    "    \"\"\" Reads all sequences of a FASTA file \n",
    "        returns a dictionary \"\"\"  \n",
    "    sequences = {}\n",
    "    try:\n",
    "        with open(file, 'r') as f:\n",
    "            identifier = None\n",
    "            seq = \"\"\n",
    "            for line in f:\n",
    "                line = line.strip()\n",
    "                if line.startswith(\">\"):\n",
    "                    if identifier:\n",
    "                        sequences[identifier] = seq\n",
    "                    identifier = line[1: line.find(\" \")]  \n",
    "                    seq = \"\"\n",
    "                else:\n",
    "                    seq += line\n",
    "\n",
    "            if identifier:\n",
    "                sequences[identifier] = seq\n",
    "    except IOError:\n",
    "        print(f\"Error: Could not read file {file}\")\n",
    "    \n",
    "    return sequences"
   ]
  },
  {
   "cell_type": "code",
   "execution_count": 3,
   "metadata": {
    "scrolled": true
   },
   "outputs": [
    {
     "name": "stdout",
     "output_type": "stream",
     "text": [
      "All tests Ok\n"
     ]
    }
   ],
   "source": [
    "# Cell for checking if readFasta is working\n",
    "seqs = readFasta(\"phix174/phix.fa\")\n",
    "#print(seqs['gi|216019|gb|J02482.1|PX1CG'])\n",
    "# Check that the number of sequences is one\n",
    "assert(len(seqs)==1)\n",
    "# Check that the length of the sequences is correct\n",
    "assert(len(seqs['gi|216019|gb|J02482.1|PX1CG'])==5386)\n",
    "\n",
    "print(\"All tests Ok\")"
   ]
  },
  {
   "cell_type": "markdown",
   "metadata": {},
   "source": [
    "#### Some statistics"
   ]
  },
  {
   "cell_type": "code",
   "execution_count": 11,
   "metadata": {},
   "outputs": [],
   "source": [
    "def countBases(seq, bases = []):\n",
    "    \"\"\" Counts the number of occurrences of each base in the sequence seq\n",
    "        There are two return values: the list of bases and the list of counts\n",
    "    \"\"\"\n",
    "    if len(bases) == 0:\n",
    "        bases = list(set(seq))\n",
    "    \n",
    "    counts = [seq.count(base) for base in bases]\n",
    "    return bases, counts\n"
   ]
  },
  {
   "cell_type": "code",
   "execution_count": 12,
   "metadata": {},
   "outputs": [
    {
     "data": {
      "image/png": "[encoded data removed]",
      "text/plain": [
       "<Figure size 640x480 with 1 Axes>"
      ]
     },
     "metadata": {},
     "output_type": "display_data"
    }
   ],
   "source": [
    "# Use matplotlib to show the histogram of bases for phiX174\n",
    "import matplotlib.pyplot as plt\n",
    "colour = [\"royalblue\", \"navy\", \"lightblue\", \"cornflowerblue\"]\n",
    "\n",
    "sequence = readFasta(\"phix174/phix.fa\")\n",
    "for elem in sequence:\n",
    "    seq = sequence[elem]\n",
    "bases, counts = countBases(seq)\n",
    "\n",
    "plt.bar(bases, counts, color = colour)\n",
    "plt.xlabel('Base')\n",
    "plt.ylabel('Count')\n",
    "plt.title('Base Counts in phiX174 Sequence')\n",
    "plt.show()"
   ]
  },
  {
   "cell_type": "code",
   "execution_count": 13,
   "metadata": {},
   "outputs": [],
   "source": [
    "def GCContent(seq):\n",
    "    \"\"\" Computes the percentage of GC content of a sequence.\n",
    "        Note that N should be ignored. \"\"\"\n",
    "    GCs = 0\n",
    "    total_nucleotides = 0\n",
    "    \n",
    "    if len(seq) == 0:\n",
    "        return 0.0\n",
    "    \n",
    "    for i in seq:\n",
    "        if i != 'N':\n",
    "            total_nucleotides += 1\n",
    "            if i == 'C' or i == 'G':\n",
    "                GCs += 1\n",
    "                \n",
    "    if total_nucleotides == 0:\n",
    "        return 0.0\n",
    "\n",
    "    gc_content = (GCs / total_nucleotides)\n",
    "    return gc_content"
   ]
  },
  {
   "cell_type": "code",
   "execution_count": 14,
   "metadata": {},
   "outputs": [
    {
     "name": "stdout",
     "output_type": "stream",
     "text": [
      "All tests Ok\n"
     ]
    }
   ],
   "source": [
    "# Check that the GC content is correct\n",
    "seqs = readFasta(\"phix174/phix.fa\")\n",
    "assert(GCContent(seqs['gi|216019|gb|J02482.1|PX1CG'])==0.44764203490531007)\n",
    "# Check that the GC content is correct\n",
    "seqs = readFasta(\"plamodium_falciparum/Plasmodium_falciparumchromosome_1.fa\")\n",
    "assert(GCContent(seqs['NC_004325.1'])==0.20545724181242733)\n",
    "\n",
    "print(\"All tests Ok\")"
   ]
  },
  {
   "cell_type": "code",
   "execution_count": 15,
   "metadata": {},
   "outputs": [
    {
     "name": "stdout",
     "output_type": "stream",
     "text": [
      "[0.44764203490531007, 0.4093836151314954, 0.20545724181242733, 0.3814884716178203, 0.30435739990000565]\n"
     ]
    }
   ],
   "source": [
    "files = [\"phix174/phix.fa\", \"homo_sapiens/homo_sapiens_chr21.fasta\",\n",
    "        \"plamodium_falciparum/Plasmodium_falciparumchromosome_1.fa\",\n",
    "         \"haemophilus_influenzae/GCF_000027305.1_ASM2730v1_genomic.fna\",\n",
    "         \"arabidopsis_thaliana/GCF_000001735.3_TAIR10_genomic.fna\"]\n",
    "\n",
    "gcs = []\n",
    "for file in files:\n",
    "    seqs = readFasta(file)\n",
    "    # Count only the first sequence\n",
    "    keys = list(seqs.keys())\n",
    "    gcs.append(GCContent(seqs[keys[0]]))\n",
    "   \n",
    "print(gcs)"
   ]
  },
  {
   "cell_type": "code",
   "execution_count": 16,
   "metadata": {},
   "outputs": [
    {
     "data": {
      "image/png": "[encoded data removed]",
      "text/plain": [
       "<Figure size 640x480 with 1 Axes>"
      ]
     },
     "metadata": {},
     "output_type": "display_data"
    }
   ],
   "source": [
    "# Use matplotlib to show the GC content of the different species with a bar plot\n",
    "color = [\"purple\"]\n",
    "\n",
    "names = ['Phix','Homo sapiens', 'Plamodium falciparum', 'Haemophilus influenza', 'Arabidopsis Thaliana']\n",
    "plt.barh(names, gcs, color = color)\n",
    "plt.xlabel('GC-content')\n",
    "plt.ylabel('Species')\n",
    "plt.title('GC content of the different species')\n",
    "plt.show()"
   ]
  },
  {
   "cell_type": "markdown",
   "metadata": {},
   "source": [
    "#### Read FASTQ"
   ]
  },
  {
   "cell_type": "code",
   "execution_count": 17,
   "metadata": {
    "scrolled": true
   },
   "outputs": [],
   "source": [
    "def readFastq(file):\n",
    "    \"\"\" Reads a FASTQ format file and returns sequences and quality scores. \"\"\"\n",
    "    reads = []\n",
    "    quals = []\n",
    "    \n",
    "    with open(file, 'r') as f:\n",
    "        while True:\n",
    "            header = f.readline().strip()  \n",
    "            if not header:  \n",
    "                break\n",
    "            read = f.readline().strip()    \n",
    "            plus_line = f.readline().strip()\n",
    "            quality = f.readline().strip()  \n",
    "           \n",
    "            reads.append(read)\n",
    "            scores = [ord(char) - 33 for char in quality]  \n",
    "            quals.append(scores) \n",
    "\n",
    "    return reads, quals"
   ]
  },
  {
   "cell_type": "code",
   "execution_count": 18,
   "metadata": {},
   "outputs": [
    {
     "name": "stdout",
     "output_type": "stream",
     "text": [
      "CPU times: user 22.1 ms, sys: 1.05 ms, total: 23.2 ms\n",
      "Wall time: 177 ms\n"
     ]
    },
    {
     "data": {
      "text/plain": [
       "5.011872336272714e-10"
      ]
     },
     "execution_count": 18,
     "metadata": {},
     "output_type": "execute_result"
    },
    {
     "data": {
      "image/png": "[encoded data removed]",
      "text/plain": [
       "<Figure size 640x480 with 1 Axes>"
      ]
     },
     "metadata": {},
     "output_type": "display_data"
    }
   ],
   "source": [
    "import math\n",
    "\n",
    "# Use matplotlib to show the a histogram of Qs\n",
    "%time rr, qq = readFastq('phix174/SRR835775_1.first1000.fastq')\n",
    "#%time rr, qq = readFastq('sintetico/sample_01.fasta.fastq')\n",
    "\n",
    "q = np.concatenate(qq,axis=0)\n",
    "plt.xlabel('Q')\n",
    "plt.xlim((0,43))\n",
    "hh, bb = np.histogram(q,range(1,50))\n",
    "plt.bar(np.arange(1,49),hh)\n",
    "h = plt.hist(q,range(50))\n",
    "\n",
    "math.pow(10,-(ord('~')-33)/10)\n"
   ]
  },
  {
   "cell_type": "markdown",
   "metadata": {},
   "source": [
    "# Obtaining traslation tables"
   ]
  },
  {
   "cell_type": "code",
   "execution_count": 19,
   "metadata": {},
   "outputs": [],
   "source": [
    "def complementary(gen):\n",
    "    \"\"\" From a sequence of nucleotides return the inverse complementary\n",
    "          e.g. GAACCT should return AGGTTC\n",
    "          Hint: Use a dictionary for the translations\n",
    "        \"\"\"\n",
    "    to_replace = {\"A\":\"T\",\"T\":\"A\",\"G\":\"C\",\"C\":\"G\",\"K\":\"M\", \"M\":\"K\", \"Y\":\"R\", \"R\":\"Y\",\n",
    "                 \"B\":\"V\", \"V\":\"B\", \"D\":\"H\", \"H\":\"D\"}\n",
    "    result = []\n",
    "    for nucl in gen:\n",
    "        if nucl in to_replace:\n",
    "            result += to_replace[nucl]\n",
    "        else:\n",
    "            result += nucl\n",
    "    complementary = ''.join(result)\n",
    "    reverse_complement = complementary[::-1]\n",
    "    return reverse_complement"
   ]
  },
  {
   "cell_type": "code",
   "execution_count": 20,
   "metadata": {},
   "outputs": [
    {
     "name": "stdout",
     "output_type": "stream",
     "text": [
      "All tests OK!\n"
     ]
    }
   ],
   "source": [
    "# Tests\n",
    "assert(complementary('G')=='C')\n",
    "assert(complementary('AT')=='AT')\n",
    "assert(complementary('GC')=='GC')\n",
    "assert(complementary('GATACA')=='TGTATC')\n",
    "# If you added all possible combination of bases uncomment the \n",
    "# following line to check\n",
    "assert(complementary('GATACASWKMYRHDVBN')=='NVBHDYRKMWSTGTATC')\n",
    "\n",
    "print('All tests OK!')"
   ]
  },
  {
   "cell_type": "code",
   "execution_count": 21,
   "metadata": {},
   "outputs": [],
   "source": [
    "def extractProteinId(attribs):\n",
    "    \"\"\" Extract the protein_id from the complete string of the attributes \n",
    "        field of the gff \"\"\"\n",
    "    protein_id = attribs[attribs.find(\"protein_id=\")+len(\"protein_id=\"):]\n",
    "    i = protein_id.find(\";\")\n",
    "    if i>=0:\n",
    "        protein_id = protein_id[:i]\n",
    "    return protein_id\n",
    "\n",
    "def extractCDSFromGFF(gff_file):\n",
    "    \"\"\" This function extract the regions information from a gff file for all CDSs.\n",
    "       \n",
    "        This function returns a dictionary with the protein_id being the keys and\n",
    "        the values in a list with the sequence_id and tuples with (start, end, strand, frame)\n",
    "       \n",
    "        Note that a CDS might spread over multiple lines. For each line you should include\n",
    "        one tuple.\n",
    "    \"\"\"\n",
    "    cds_dict = {}\n",
    "    with open(gff_file, 'r') as f:\n",
    "        for line in f:\n",
    "            if line[0] != \"#\":  \n",
    "                campos = line.strip().split(\"\\t\")\n",
    "                if campos[2] == \"CDS\":\n",
    "                    protein_id = extractProteinId(campos[8])\n",
    "                    if protein_id:\n",
    "                        sequence_id = campos[0]\n",
    "                        start = int(campos[3])   \n",
    "                        end = int(campos[4])\n",
    "                        strand = campos[6]\n",
    "                        frame = int(campos [7])\n",
    "\n",
    "                    if protein_id not in cds_dict:\n",
    "                        cds_dict[protein_id] = [sequence_id,]\n",
    "                    cds_dict[protein_id] += ((start, end, strand, frame),)\n",
    "\n",
    "    return cds_dict"
   ]
  },
  {
   "cell_type": "code",
   "execution_count": 22,
   "metadata": {},
   "outputs": [
    {
     "name": "stdout",
     "output_type": "stream",
     "text": [
      "All test are OK!\n"
     ]
    }
   ],
   "source": [
    "# Tests\n",
    "assert(extractCDSFromGFF('haemophilus_influenzae/test1.gff')=={'NP_438174.1': ['NC_000907.1', (2, 1021, '+', 0)]})\n",
    "assert(extractCDSFromGFF('haemophilus_influenzae/test2.gff')== {'NP_438174.1': ['NC_000907.1',  (2, 1021, '+', 0)],\n",
    "                                                  'NP_438175.1': ['NC_000907.1',  (1190, 3013, '+', 0)],\n",
    "                                                  'NP_438176.1': ['NC_000907.1', (3050, 3838, '-', 0)]})\n",
    "assert(extractCDSFromGFF('haemophilus_influenzae/test3.gff')=={'NP_438174.1': ['NC_000907.1', (2, 1021, '+', 0)],\n",
    "                 'NP_438271.2': ['NC_000907.1', (104277, 104318, '+', 0), (104318, 105274, '+',  0)]})\n",
    "print('All test are OK!')"
   ]
  },
  {
   "cell_type": "code",
   "execution_count": 23,
   "metadata": {},
   "outputs": [],
   "source": [
    "def obtainTranslationTable(cds, protein):\n",
    "    \"\"\" Creates a translation dictionary from the protein and DNA sequence.\n",
    "        The function returns:\n",
    "            1- A dictionary with the translation table where the codons are the\n",
    "               keys of the dictionary and the amino acids the values.\n",
    "            2- The start codon as a string\n",
    "            \n",
    "        Note 1: The sequence cds includes start and end codons. \n",
    "        Note 2: First codon always codifies M that is also included in the protein.\n",
    "        Note 3: End codon do not codify an a aminoacid and should be included in the\n",
    "                dictionary as *.\n",
    "                \n",
    "        Example: (Spaces added in seqeunces for readability) \n",
    "          cds     = GTG TTT TTG GTG TGG TGA\n",
    "          protein = M   F   L   V   W\n",
    "          \n",
    "          should return\n",
    "            tranlation dictionary = {'TTT':'F', 'TTG':'L', 'GTG':'V', 'TGG':'W', 'TGA':'*'}\n",
    "            start codon = 'GTG' \"\"\"\n",
    "    \n",
    "    if len(cds) % 3 != 0:\n",
    "        raise ValueError(\"The CDS length must be a multiple of 3.\")\n",
    "\n",
    "    codons = [cds[i:i+3] for i in range(0, len(cds), 3)]\n",
    "    start_codon = codons[0]\n",
    "    codons = codons[1:] \n",
    "\n",
    "    protein = protein[1:] + '*'\n",
    "\n",
    "    trans_table = dict(zip(codons, protein))\n",
    "    \n",
    "    return trans_table, start_codon"
   ]
  },
  {
   "cell_type": "code",
   "execution_count": 24,
   "metadata": {},
   "outputs": [
    {
     "name": "stdout",
     "output_type": "stream",
     "text": [
      "All test OK!\n"
     ]
    }
   ],
   "source": [
    "translation_dictionary, start_codon = obtainTranslationTable('GTGTTTTTGGTGTGGTGA','MFLVW')\n",
    "assert(translation_dictionary=={'TTT':'F', 'TTG':'L', 'GTG':'V', 'TGG':'W', 'TGA':'*'})\n",
    "assert(start_codon == 'GTG')\n",
    "\n",
    "print('All test OK!')"
   ]
  },
  {
   "cell_type": "code",
   "execution_count": 25,
   "metadata": {},
   "outputs": [],
   "source": [
    "def compose_mRNA(chromosome, cds):\n",
    "    \"\"\"Returns the mRNA from the complete sequence of DNA and the locations of the CDS. \n",
    "        Parameters:\n",
    "            -cromosome: a string with the whole cromosome\n",
    "            -cds: a list containing tuples of (start, end, strand, phase) \"\"\"\n",
    "\n",
    "    mrna_positive = chromosome.replace('T', 'U')\n",
    "    mrna_negative = complementary(chromosome).replace('T', 'U')\n",
    "    mrna = []\n",
    "\n",
    "    for i in range (len(cds)):\n",
    "        if cds[i][2] == '+':\n",
    "            mrna. append(mrna_positive[cds[i][0]-1:cds[i][1]])\n",
    "            mrna_str = ''.join(mrna)\n",
    "\n",
    "        elif -cds[i][0] +1 == 0:\n",
    "            index_1 = -cds[i][0]\n",
    "            index_2 = -cds[i][1]\n",
    "            mrna. append(mrna_negative[index_2:index_1])\n",
    "            mrna_str = ''.join(mrna)\n",
    "            mrna_str = mrna_str + mrna_negative[-1]\n",
    "\n",
    "        else:\n",
    "            index_1 = -cds[i][0] +1\n",
    "            index_2 = -cds[i][1]\n",
    "            mrna. append(mrna_negative[index_2:index_1])\n",
    "            mrna_str = ''.join(mrna)\n",
    "    \n",
    "    return mrna_str.replace('U', 'T') ## Devolcer en forma de DNA"
   ]
  },
  {
   "cell_type": "code",
   "execution_count": 26,
   "metadata": {},
   "outputs": [
    {
     "name": "stdout",
     "output_type": "stream",
     "text": [
      "All tests are OK!\n"
     ]
    }
   ],
   "source": [
    "cod = 'GTGTTTTTGGTGTGGTGA'\n",
    "\n",
    "assert(compose_mRNA(cod,[(1,len(cod),'+',0)])==cod)\n",
    "assert(compose_mRNA(cod,[(1,len(cod),'-',0)])==complementary(cod))\n",
    "assert(compose_mRNA(\"GGGGGGGGGG\"+cod+\"GGGGGG\",[(11,10+len(cod),'+',0)])==cod)\n",
    "assert(compose_mRNA(\"GGGGGGGGGG\"+cod+\"GGGGGG\",[(11,10+len(cod),'-',0)])==complementary(cod))\n",
    "assert(compose_mRNA(\"GGGGGGGGGG\"+cod[:9]+\"GGGGGG\"+cod[9:],[(11,19,'+',0),(26,34,'+',0)])==cod)\n",
    "assert(compose_mRNA(\"GGGGGGGGGG\"+cod[:9]+\"GGGGGG\"+cod[9:],[(26,34,'-',0),(11,19,'-',0)])==complementary(cod))\n",
    "\n",
    "print(\"All tests are OK!\")"
   ]
  },
  {
   "cell_type": "markdown",
   "metadata": {},
   "source": [
    "### Cell to compute the translation tables"
   ]
  },
  {
   "cell_type": "code",
   "execution_count": 27,
   "metadata": {},
   "outputs": [
    {
     "name": "stdout",
     "output_type": "stream",
     "text": [
      "List of start codons:  {'TTG', 'ATG'}\n",
      "There are 64 entries in the tranlation table.\n",
      "Entries:\n",
      "\n",
      "AAA->K    AAC->N    AAG->K    AAT->N    ACA->T    ACC->T    ACG->T    ACT->T    \n",
      "AGA->R    AGC->S    AGG->R    AGT->S    ATA->I    ATC->I    ATG->M    ATT->I    \n",
      "CAA->Q    CAC->H    CAG->Q    CAT->H    CCA->P    CCC->P    CCG->P    CCT->P    \n",
      "CGA->R    CGC->R    CGG->R    CGT->R    CTA->L    CTC->L    CTG->L    CTT->L    \n",
      "GAA->E    GAC->D    GAG->E    GAT->D    GCA->A    GCC->A    GCG->A    GCT->A    \n",
      "GGA->G    GGC->G    GGG->G    GGT->G    GTA->V    GTC->V    GTG->V    GTT->V    \n",
      "TAA->*    TAC->Y    TAG->*    TAT->Y    TCA->S    TCC->S    TCG->S    TCT->S    \n",
      "TGA->*    TGC->C    TGG->W    TGT->C    TTA->L    TTC->F    TTG->L    TTT->F    "
     ]
    }
   ],
   "source": [
    "def cleanTransTable(tt):\n",
    "    # Remove entries that codify 'X' (unknown)\n",
    "    tt = {k:tt[k] for k in tt if tt[k]!='X'}\n",
    "    # Remove entries that are not GCAT only\n",
    "    tt = {k:tt[k] for k in tt if k.count('G')+k.count('C')+k.count('A')+k.count('T') == 3}\n",
    "    \n",
    "    return tt\n",
    "\n",
    "# Read data\n",
    "genome   = readFasta('haemophilus_influenzae/GCF_000027305.1_ASM2730v1_genomic.fna')\n",
    "cdss     = extractCDSFromGFF('haemophilus_influenzae/test4.gff')\n",
    "proteins = readFasta('haemophilus_influenzae/GCF_000027305.1_ASM2730v1_protein.faa')\n",
    "\n",
    "# Init trans table and start codons\n",
    "translation_table = {}\n",
    "start_codons = set()\n",
    "\n",
    "# Loop over all mRNA found\n",
    "for protein_id in cdss:\n",
    "    cds    = cdss[protein_id]\n",
    "    seq_id = cds[0]\n",
    "    \n",
    "    mRNA   = compose_mRNA(genome[seq_id], cds[1:])\n",
    "    tt, sc = obtainTranslationTable(mRNA, proteins[protein_id])\n",
    "    \n",
    "    translation_table.update(tt)\n",
    "    start_codons.add(sc)\n",
    "\n",
    "# Remove spurious entries from the result\n",
    "translation_table = cleanTransTable(translation_table)\n",
    "\n",
    "#Print result\n",
    "print(\"List of start codons: \", start_codons)\n",
    "print(\"There are {0} entries in the tranlation table.\".format(len(translation_table)))\n",
    "print(\"Entries:\")\n",
    "\n",
    "for i,k in enumerate(sorted(translation_table.keys())):\n",
    "    if i%8==0:\n",
    "        print()\n",
    "    print(k + \"->\" + translation_table[k], end='    ')"
   ]
  }
 ],
 "metadata": {
  "kernelspec": {
   "display_name": "Python 3",
   "language": "python",
   "name": "python3"
  },
  "language_info": {
   "codemirror_mode": {
    "name": "ipython",
    "version": 3
   },
   "file_extension": ".py",
   "mimetype": "text/x-python",
   "name": "python",
   "nbconvert_exporter": "python",
   "pygments_lexer": "ipython3",
   "version": "3.10.12"
  }
 },
 "nbformat": 4,
 "nbformat_minor": 4
}
